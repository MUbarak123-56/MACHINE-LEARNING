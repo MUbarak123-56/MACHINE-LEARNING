{
    "cells": [
        {
            "metadata": {
                "collapsed": true
            },
            "cell_type": "markdown",
            "source": "# ENSEMBLE LEARNING AND RANDOM FORESTS"
        },
        {
            "metadata": {},
            "cell_type": "markdown",
            "source": "### VOTING CLASSIFIERS"
        },
        {
            "metadata": {},
            "cell_type": "code",
            "source": "from sklearn.ensemble import RandomForestClassifier\nfrom sklearn.ensemble import VotingClassifier\nfrom sklearn.linear_model import LogisticRegression\nfrom sklearn.svm import SVC",
            "execution_count": 1,
            "outputs": []
        },
        {
            "metadata": {},
            "cell_type": "code",
            "source": "log_clf = LogisticRegression()\nrnd_clf = RandomForestClassifier()\nsvm_clf = SVC()",
            "execution_count": 2,
            "outputs": []
        },
        {
            "metadata": {},
            "cell_type": "code",
            "source": "from sklearn.datasets import make_moons\nfrom sklearn.model_selection import train_test_split\nX, y = make_moons(n_samples = 1000, noise = 0.15)\nX_train, X_test, y_train, y_test = train_test_split(X, y, random_state = 42, train_size = 0.8)",
            "execution_count": 3,
            "outputs": [
                {
                    "output_type": "stream",
                    "text": "/opt/conda/envs/Python36/lib/python3.6/site-packages/sklearn/model_selection/_split.py:2179: FutureWarning: From version 0.21, test_size will always complement train_size unless both are specified.\n  FutureWarning)\n",
                    "name": "stderr"
                }
            ]
        },
        {
            "metadata": {},
            "cell_type": "code",
            "source": "voting_clf = VotingClassifier(estimators = [('lr', log_clf), ('rnd', rnd_clf), ('svm', svm_clf)], voting = 'hard')",
            "execution_count": 4,
            "outputs": []
        },
        {
            "metadata": {},
            "cell_type": "code",
            "source": "voting_clf.fit(X_train, y_train);",
            "execution_count": 5,
            "outputs": [
                {
                    "output_type": "stream",
                    "text": "/opt/conda/envs/Python36/lib/python3.6/site-packages/sklearn/linear_model/logistic.py:433: FutureWarning: Default solver will be changed to 'lbfgs' in 0.22. Specify a solver to silence this warning.\n  FutureWarning)\n/opt/conda/envs/Python36/lib/python3.6/site-packages/sklearn/ensemble/forest.py:246: FutureWarning: The default value of n_estimators will change from 10 in version 0.20 to 100 in 0.22.\n  \"10 in version 0.20 to 100 in 0.22.\", FutureWarning)\n/opt/conda/envs/Python36/lib/python3.6/site-packages/sklearn/svm/base.py:196: FutureWarning: The default value of gamma will change from 'auto' to 'scale' in version 0.22 to account better for unscaled features. Set gamma explicitly to 'auto' or 'scale' to avoid this warning.\n  \"avoid this warning.\", FutureWarning)\n",
                    "name": "stderr"
                }
            ]
        },
        {
            "metadata": {},
            "cell_type": "code",
            "source": "from sklearn.metrics import accuracy_score\nfor clf in (log_clf, rnd_clf, svm_clf, voting_clf):\n    clf.fit(X_train, y_train)\n    y_pred = clf.predict(X_test)\n    print(clf.__class__.__name__, accuracy_score(y_test, y_pred))",
            "execution_count": 6,
            "outputs": [
                {
                    "output_type": "stream",
                    "text": "LogisticRegression 0.89\nRandomForestClassifier 0.99\nSVC 0.98\nVotingClassifier 0.975\n",
                    "name": "stdout"
                },
                {
                    "output_type": "stream",
                    "text": "/opt/conda/envs/Python36/lib/python3.6/site-packages/sklearn/linear_model/logistic.py:433: FutureWarning: Default solver will be changed to 'lbfgs' in 0.22. Specify a solver to silence this warning.\n  FutureWarning)\n/opt/conda/envs/Python36/lib/python3.6/site-packages/sklearn/ensemble/forest.py:246: FutureWarning: The default value of n_estimators will change from 10 in version 0.20 to 100 in 0.22.\n  \"10 in version 0.20 to 100 in 0.22.\", FutureWarning)\n/opt/conda/envs/Python36/lib/python3.6/site-packages/sklearn/svm/base.py:196: FutureWarning: The default value of gamma will change from 'auto' to 'scale' in version 0.22 to account better for unscaled features. Set gamma explicitly to 'auto' or 'scale' to avoid this warning.\n  \"avoid this warning.\", FutureWarning)\n/opt/conda/envs/Python36/lib/python3.6/site-packages/sklearn/linear_model/logistic.py:433: FutureWarning: Default solver will be changed to 'lbfgs' in 0.22. Specify a solver to silence this warning.\n  FutureWarning)\n/opt/conda/envs/Python36/lib/python3.6/site-packages/sklearn/svm/base.py:196: FutureWarning: The default value of gamma will change from 'auto' to 'scale' in version 0.22 to account better for unscaled features. Set gamma explicitly to 'auto' or 'scale' to avoid this warning.\n  \"avoid this warning.\", FutureWarning)\n",
                    "name": "stderr"
                }
            ]
        },
        {
            "metadata": {},
            "cell_type": "markdown",
            "source": "### BAGGING AND PASTING"
        },
        {
            "metadata": {},
            "cell_type": "code",
            "source": "from sklearn.ensemble import BaggingClassifier\nfrom sklearn.tree import DecisionTreeClassifier\nbag_clf = BaggingClassifier(DecisionTreeClassifier(), n_estimators = 500, max_samples = 100, bootstrap = True, n_jobs = -1)\nbag_clf.fit(X_train, y_train)\ny_pred2 = bag_clf.predict(X_test)\naccuracy_score(y_test, y_pred2)",
            "execution_count": 7,
            "outputs": [
                {
                    "output_type": "execute_result",
                    "execution_count": 7,
                    "data": {
                        "text/plain": "0.97"
                    },
                    "metadata": {}
                }
            ]
        },
        {
            "metadata": {},
            "cell_type": "code",
            "source": "bag_clf2 = BaggingClassifier(DecisionTreeClassifier(), n_estimators = 500, max_samples = 100, bootstrap = True, n_jobs = -1, oob_score=True)",
            "execution_count": 8,
            "outputs": []
        },
        {
            "metadata": {},
            "cell_type": "code",
            "source": "bag_clf2.fit(X_train, y_train);",
            "execution_count": 9,
            "outputs": []
        },
        {
            "metadata": {},
            "cell_type": "code",
            "source": "bag_clf2.oob_score_",
            "execution_count": 10,
            "outputs": [
                {
                    "output_type": "execute_result",
                    "execution_count": 10,
                    "data": {
                        "text/plain": "0.97625"
                    },
                    "metadata": {}
                }
            ]
        },
        {
            "metadata": {},
            "cell_type": "code",
            "source": "y_pred2 = bag_clf2.predict(X_test)\naccuracy_score(y_test, y_pred2)",
            "execution_count": 11,
            "outputs": [
                {
                    "output_type": "execute_result",
                    "execution_count": 11,
                    "data": {
                        "text/plain": "0.965"
                    },
                    "metadata": {}
                }
            ]
        },
        {
            "metadata": {},
            "cell_type": "code",
            "source": "bag_clf2.oob_decision_function_",
            "execution_count": 12,
            "outputs": [
                {
                    "output_type": "execute_result",
                    "execution_count": 12,
                    "data": {
                        "text/plain": "array([[0.        , 1.        ],\n       [0.025     , 0.975     ],\n       [0.        , 1.        ],\n       ...,\n       [0.        , 1.        ],\n       [0.04597701, 0.95402299],\n       [0.99308756, 0.00691244]])"
                    },
                    "metadata": {}
                }
            ]
        },
        {
            "metadata": {},
            "cell_type": "markdown",
            "source": "### RANDOM FORESTS"
        },
        {
            "metadata": {},
            "cell_type": "code",
            "source": "from sklearn.ensemble import RandomForestClassifier\nrnd_clf = RandomForestClassifier(n_estimators = 500, max_leaf_nodes = 16, n_jobs = -1)\nrnd_clf.fit(X_train, y_train)\ny_pred_rf = rnd_clf.predict(X_test)\naccuracy_score(y_test, y_pred_rf)",
            "execution_count": 13,
            "outputs": [
                {
                    "output_type": "execute_result",
                    "execution_count": 13,
                    "data": {
                        "text/plain": "0.985"
                    },
                    "metadata": {}
                }
            ]
        },
        {
            "metadata": {},
            "cell_type": "code",
            "source": "from sklearn.datasets import load_iris\niris = load_iris()\nrnd_clf2 = RandomForestClassifier(n_estimators=500, n_jobs = -1)\nrnd_clf2.fit(iris[\"data\"], iris[\"target\"])\nfor name,score in zip(iris[\"feature_names\"], rnd_clf2.feature_importances_):\n    print(name, score)",
            "execution_count": 14,
            "outputs": [
                {
                    "output_type": "stream",
                    "text": "sepal length (cm) 0.0985914634518347\nsepal width (cm) 0.0251349089061179\npetal length (cm) 0.43665898802045694\npetal width (cm) 0.4396146396215905\n",
                    "name": "stdout"
                }
            ]
        },
        {
            "metadata": {},
            "cell_type": "markdown",
            "source": "### BOOSTING"
        },
        {
            "metadata": {},
            "cell_type": "markdown",
            "source": "#### ADABOOST"
        },
        {
            "metadata": {},
            "cell_type": "code",
            "source": "from sklearn.ensemble import AdaBoostClassifier\nada_clf = AdaBoostClassifier(DecisionTreeClassifier(max_depth = 1), n_estimators = 200, algorithm=\"SAMME.R\", learning_rate = 0.5)\nada_clf.fit(X_train, y_train)\ny_pred3 = ada_clf.predict(X_test)\naccuracy_score(y_test, y_pred3)",
            "execution_count": 15,
            "outputs": [
                {
                    "output_type": "execute_result",
                    "execution_count": 15,
                    "data": {
                        "text/plain": "0.99"
                    },
                    "metadata": {}
                }
            ]
        },
        {
            "metadata": {},
            "cell_type": "markdown",
            "source": "#### GRADIENT BOOSTING"
        },
        {
            "metadata": {},
            "cell_type": "code",
            "source": "from sklearn.tree import DecisionTreeRegressor\ntree_reg1 = DecisionTreeRegressor(max_depth = 2)\ntree_reg1.fit(X_train, y_train);",
            "execution_count": 16,
            "outputs": []
        },
        {
            "metadata": {},
            "cell_type": "code",
            "source": "y2 = y_train - tree_reg1.predict(X_train)\ntree_reg2 = DecisionTreeRegressor(max_depth=2)\ntree_reg2.fit(X_train, y2);",
            "execution_count": 17,
            "outputs": []
        },
        {
            "metadata": {},
            "cell_type": "code",
            "source": "y3 = y2 - tree_reg2.predict(X_train)\ntree_reg3 = DecisionTreeRegressor(max_depth = 2)\ntree_reg3.fit(X_train, y3);",
            "execution_count": 18,
            "outputs": []
        },
        {
            "metadata": {},
            "cell_type": "code",
            "source": "y_pred = sum(tree.predict(X_test) for tree in (tree_reg1, tree_reg2, tree_reg3))",
            "execution_count": 19,
            "outputs": []
        },
        {
            "metadata": {},
            "cell_type": "code",
            "source": "from sklearn.ensemble import GradientBoostingRegressor\ngbrt = GradientBoostingRegressor(max_depth = 2, n_estimators = 3, learning_rate = 1.0)\ngbrt.fit(X_train, y_train);",
            "execution_count": 20,
            "outputs": []
        },
        {
            "metadata": {},
            "cell_type": "code",
            "source": "import numpy as np\nfrom sklearn.model_selection import train_test_split\nfrom sklearn.metrics import mean_squared_error\nX_train, X_val, y_train, y_val = train_test_split(X, y)\ngbrt = GradientBoostingRegressor(max_depth = 2, n_estimators = 120)\ngbrt.fit(X_train, y_train);",
            "execution_count": 21,
            "outputs": []
        },
        {
            "metadata": {},
            "cell_type": "code",
            "source": "errors = [mean_squared_error(y_val, y_pred) for y_pred in gbrt.staged_predict(X_val)]\nbst_n_estimators = np.argmin(errors) + 1\ngbrt_best = GradientBoostingRegressor(max_depth = 2, n_estimators = bst_n_estimators)\ngbrt_best.fit(X_train, y_train);",
            "execution_count": 22,
            "outputs": []
        },
        {
            "metadata": {},
            "cell_type": "code",
            "source": "gbrt = GradientBoostingRegressor(max_depth=2, warm_start=True)\nmin_val_error = float(\"inf\")\nerror_going_up = 0\nfor n_estimators in range(1, 120):\n    gbrt.n_estimators = n_estimators\n    gbrt.fit(X_train, y_train)\n    y_pred = gbrt.predict(X_val)\n    val_error = mean_squared_error(y_val, y_pred)\n    if val_error < min_val_error:\n        min_val_error = val_error\n        error_going_up = 0\n    else:\n        error_going_up += 1\n        if error_going_up == 5:\n            break # early stopping",
            "execution_count": 23,
            "outputs": []
        },
        {
            "metadata": {},
            "cell_type": "code",
            "source": "import xgboost\nxgb_reg = xgboost.XGBRegressor()\nxgb_reg.fit(X_train, y_train)\ny_pred = xgb_reg.predict(X_val)",
            "execution_count": 24,
            "outputs": []
        },
        {
            "metadata": {},
            "cell_type": "code",
            "source": "xgb_reg.fit(X_train, y_train, eval_set= [(X_val, y_val)], early_stopping_rounds = 2)\ny_pred = xgb_reg.predict(X_val)",
            "execution_count": 25,
            "outputs": [
                {
                    "output_type": "stream",
                    "text": "[0]\tvalidation_0-rmse:0.464458\nWill train until validation_0-rmse hasn't improved in 2 rounds.\n[1]\tvalidation_0-rmse:0.433027\n[2]\tvalidation_0-rmse:0.406363\n[3]\tvalidation_0-rmse:0.383298\n[4]\tvalidation_0-rmse:0.363734\n[5]\tvalidation_0-rmse:0.347213\n[6]\tvalidation_0-rmse:0.32864\n[7]\tvalidation_0-rmse:0.316453\n[8]\tvalidation_0-rmse:0.301971\n[9]\tvalidation_0-rmse:0.292926\n[10]\tvalidation_0-rmse:0.280816\n[11]\tvalidation_0-rmse:0.269926\n[12]\tvalidation_0-rmse:0.260442\n[13]\tvalidation_0-rmse:0.251584\n[14]\tvalidation_0-rmse:0.243945\n[15]\tvalidation_0-rmse:0.235011\n[16]\tvalidation_0-rmse:0.228301\n[17]\tvalidation_0-rmse:0.219819\n[18]\tvalidation_0-rmse:0.214114\n[19]\tvalidation_0-rmse:0.206985\n[20]\tvalidation_0-rmse:0.201547\n[21]\tvalidation_0-rmse:0.194875\n[22]\tvalidation_0-rmse:0.190788\n[23]\tvalidation_0-rmse:0.18572\n[24]\tvalidation_0-rmse:0.182551\n[25]\tvalidation_0-rmse:0.178323\n[26]\tvalidation_0-rmse:0.175231\n[27]\tvalidation_0-rmse:0.171135\n[28]\tvalidation_0-rmse:0.168195\n[29]\tvalidation_0-rmse:0.165864\n[30]\tvalidation_0-rmse:0.162972\n[31]\tvalidation_0-rmse:0.161407\n[32]\tvalidation_0-rmse:0.158622\n[33]\tvalidation_0-rmse:0.156859\n[34]\tvalidation_0-rmse:0.154879\n[35]\tvalidation_0-rmse:0.15342\n[36]\tvalidation_0-rmse:0.152599\n[37]\tvalidation_0-rmse:0.150667\n[38]\tvalidation_0-rmse:0.149048\n[39]\tvalidation_0-rmse:0.147358\n[40]\tvalidation_0-rmse:0.146747\n[41]\tvalidation_0-rmse:0.145986\n[42]\tvalidation_0-rmse:0.144653\n[43]\tvalidation_0-rmse:0.143478\n[44]\tvalidation_0-rmse:0.142738\n[45]\tvalidation_0-rmse:0.141597\n[46]\tvalidation_0-rmse:0.140628\n[47]\tvalidation_0-rmse:0.140052\n[48]\tvalidation_0-rmse:0.138899\n[49]\tvalidation_0-rmse:0.137853\n[50]\tvalidation_0-rmse:0.136906\n[51]\tvalidation_0-rmse:0.135854\n[52]\tvalidation_0-rmse:0.1352\n[53]\tvalidation_0-rmse:0.134343\n[54]\tvalidation_0-rmse:0.133249\n[55]\tvalidation_0-rmse:0.132551\n[56]\tvalidation_0-rmse:0.131751\n[57]\tvalidation_0-rmse:0.130785\n[58]\tvalidation_0-rmse:0.129917\n[59]\tvalidation_0-rmse:0.129227\n[60]\tvalidation_0-rmse:0.127782\n[61]\tvalidation_0-rmse:0.126964\n[62]\tvalidation_0-rmse:0.126395\n[63]\tvalidation_0-rmse:0.125477\n[64]\tvalidation_0-rmse:0.124805\n[65]\tvalidation_0-rmse:0.123966\n[66]\tvalidation_0-rmse:0.123351\n[67]\tvalidation_0-rmse:0.122902\n[68]\tvalidation_0-rmse:0.122136\n[69]\tvalidation_0-rmse:0.120787\n[70]\tvalidation_0-rmse:0.120242\n[71]\tvalidation_0-rmse:0.119711\n[72]\tvalidation_0-rmse:0.119283\n[73]\tvalidation_0-rmse:0.118812\n[74]\tvalidation_0-rmse:0.118311\n[75]\tvalidation_0-rmse:0.117266\n[76]\tvalidation_0-rmse:0.116809\n[77]\tvalidation_0-rmse:0.116168\n[78]\tvalidation_0-rmse:0.115613\n[79]\tvalidation_0-rmse:0.114985\n[80]\tvalidation_0-rmse:0.114612\n[81]\tvalidation_0-rmse:0.114307\n[82]\tvalidation_0-rmse:0.113819\n[83]\tvalidation_0-rmse:0.1133\n[84]\tvalidation_0-rmse:0.112857\n[85]\tvalidation_0-rmse:0.112473\n[86]\tvalidation_0-rmse:0.11203\n[87]\tvalidation_0-rmse:0.111711\n[88]\tvalidation_0-rmse:0.111121\n[89]\tvalidation_0-rmse:0.110733\n[90]\tvalidation_0-rmse:0.110156\n[91]\tvalidation_0-rmse:0.109681\n[92]\tvalidation_0-rmse:0.109217\n[93]\tvalidation_0-rmse:0.108872\n[94]\tvalidation_0-rmse:0.108274\n[95]\tvalidation_0-rmse:0.107921\n[96]\tvalidation_0-rmse:0.107607\n[97]\tvalidation_0-rmse:0.107032\n[98]\tvalidation_0-rmse:0.106553\n[99]\tvalidation_0-rmse:0.106234\n",
                    "name": "stdout"
                }
            ]
        },
        {
            "metadata": {},
            "cell_type": "code",
            "source": "",
            "execution_count": null,
            "outputs": []
        }
    ],
    "metadata": {
        "kernelspec": {
            "name": "python3",
            "display_name": "Python 3.6",
            "language": "python"
        },
        "language_info": {
            "name": "python",
            "version": "3.6.9",
            "mimetype": "text/x-python",
            "codemirror_mode": {
                "name": "ipython",
                "version": 3
            },
            "pygments_lexer": "ipython3",
            "nbconvert_exporter": "python",
            "file_extension": ".py"
        }
    },
    "nbformat": 4,
    "nbformat_minor": 1
}