{
    "cells": [
        {
            "metadata": {
                "collapsed": true
            },
            "cell_type": "markdown",
            "source": "# ARTIFICIAL NEURAL NETWORKS USING KERAS"
        },
        {
            "metadata": {},
            "cell_type": "markdown",
            "source": "## PERCEPTRON"
        },
        {
            "metadata": {},
            "cell_type": "code",
            "source": "import numpy as np\nfrom sklearn.datasets import load_iris\nfrom sklearn.linear_model import Perceptron",
            "execution_count": 1,
            "outputs": []
        },
        {
            "metadata": {},
            "cell_type": "code",
            "source": "iris = load_iris()\nX, y = iris['data'][:, 2:4], (iris['target'] == 0).astype(np.int)",
            "execution_count": 2,
            "outputs": []
        },
        {
            "metadata": {},
            "cell_type": "code",
            "source": "per_clf = Perceptron()\nper_clf.fit(X,y)\ny_pred = per_clf.predict([[2, 0.5]])",
            "execution_count": 3,
            "outputs": [
                {
                    "output_type": "stream",
                    "text": "/opt/conda/envs/Python36/lib/python3.6/site-packages/sklearn/linear_model/stochastic_gradient.py:166: FutureWarning: max_iter and tol parameters have been added in Perceptron in 0.19. If both are left unset, they default to max_iter=5 and tol=None. If tol is not None, max_iter defaults to max_iter=1000. From 0.21, default max_iter will be 1000, and default tol will be 1e-3.\n  FutureWarning)\n",
                    "name": "stderr"
                }
            ]
        },
        {
            "metadata": {},
            "cell_type": "markdown",
            "source": "## THE MULTILAYER PERCEPTRON AND BACKPROPAGATION"
        },
        {
            "metadata": {},
            "cell_type": "code",
            "source": "import tensorflow as tf\nfrom tensorflow import keras\ntf.__version__",
            "execution_count": 4,
            "outputs": [
                {
                    "output_type": "execute_result",
                    "execution_count": 4,
                    "data": {
                        "text/plain": "'1.13.1'"
                    },
                    "metadata": {}
                }
            ]
        },
        {
            "metadata": {},
            "cell_type": "code",
            "source": "keras.__version__",
            "execution_count": 5,
            "outputs": [
                {
                    "output_type": "execute_result",
                    "execution_count": 5,
                    "data": {
                        "text/plain": "'2.2.4-tf'"
                    },
                    "metadata": {}
                }
            ]
        },
        {
            "metadata": {},
            "cell_type": "code",
            "source": "fashion_mnist = keras.datasets.fashion_mnist\n(X_train_full, y_train_full), (X_test, y_test) = fashion_mnist.load_data()",
            "execution_count": 6,
            "outputs": []
        },
        {
            "metadata": {},
            "cell_type": "code",
            "source": "X_train_full.shape",
            "execution_count": 7,
            "outputs": [
                {
                    "output_type": "execute_result",
                    "execution_count": 7,
                    "data": {
                        "text/plain": "(60000, 28, 28)"
                    },
                    "metadata": {}
                }
            ]
        },
        {
            "metadata": {},
            "cell_type": "code",
            "source": "X_train_full.dtype",
            "execution_count": 8,
            "outputs": [
                {
                    "output_type": "execute_result",
                    "execution_count": 8,
                    "data": {
                        "text/plain": "dtype('uint8')"
                    },
                    "metadata": {}
                }
            ]
        },
        {
            "metadata": {},
            "cell_type": "code",
            "source": "X_valid, X_train = X_train_full[:5000]/255.0, X_train_full[5000:]/255.0\ny_valid, y_train = y_train_full[:5000], y_train_full[5000:]",
            "execution_count": 9,
            "outputs": []
        },
        {
            "metadata": {},
            "cell_type": "code",
            "source": "class_names = [\"T-shirt/top\", \"Trouser\", \"Pullover\", \"Dress\", \"Coat\", \"Sandal\", \"Shirt\", \"Sneaker\", \"Bag\", \"Ankle boot\"]\nclass_names[y_train[0]]",
            "execution_count": 10,
            "outputs": [
                {
                    "output_type": "execute_result",
                    "execution_count": 10,
                    "data": {
                        "text/plain": "'Coat'"
                    },
                    "metadata": {}
                }
            ]
        },
        {
            "metadata": {},
            "cell_type": "markdown",
            "source": "### Creating a model using a Sequential API"
        },
        {
            "metadata": {},
            "cell_type": "code",
            "source": "model = keras.models.Sequential()\nmodel.add(keras.layers.Flatten(input_shape=[28,28]))\nmodel.add(keras.layers.Dense(300, activation=\"relu\"))\nmodel.add(keras.layers.Dense(100, activation=\"relu\"))\nmodel.add(keras.layers.Dense(10, activation=\"softmax\"))",
            "execution_count": 11,
            "outputs": [
                {
                    "output_type": "stream",
                    "text": "WARNING:tensorflow:From /opt/conda/envs/Python36/lib/python3.6/site-packages/tensorflow/python/ops/resource_variable_ops.py:435: colocate_with (from tensorflow.python.framework.ops) is deprecated and will be removed in a future version.\nInstructions for updating:\nColocations handled automatically by placer.\n",
                    "name": "stdout"
                }
            ]
        },
        {
            "metadata": {},
            "cell_type": "code",
            "source": "model = keras.models.Sequential([keras.layers.Flatten(input_shape=[28,28]),\n                                 keras.layers.Dense(300, activation=\"relu\"),\n                                 keras.layers.Dense(100, activation=\"relu\"),\n                                 keras.layers.Dense(10, activation=\"softmax\")\n                                ])",
            "execution_count": 12,
            "outputs": []
        },
        {
            "metadata": {},
            "cell_type": "code",
            "source": "model.summary()",
            "execution_count": 13,
            "outputs": [
                {
                    "output_type": "stream",
                    "text": "_________________________________________________________________\nLayer (type)                 Output Shape              Param #   \n=================================================================\nflatten_1 (Flatten)          (None, 784)               0         \n_________________________________________________________________\ndense_3 (Dense)              (None, 300)               235500    \n_________________________________________________________________\ndense_4 (Dense)              (None, 100)               30100     \n_________________________________________________________________\ndense_5 (Dense)              (None, 10)                1010      \n=================================================================\nTotal params: 266,610\nTrainable params: 266,610\nNon-trainable params: 0\n_________________________________________________________________\n",
                    "name": "stdout"
                }
            ]
        },
        {
            "metadata": {},
            "cell_type": "code",
            "source": "model.layers",
            "execution_count": 14,
            "outputs": [
                {
                    "output_type": "execute_result",
                    "execution_count": 14,
                    "data": {
                        "text/plain": "[<tensorflow.python.keras.layers.core.Flatten at 0x7fd52a04ba90>,\n <tensorflow.python.keras.layers.core.Dense at 0x7fd52a04bbe0>,\n <tensorflow.python.keras.layers.core.Dense at 0x7fd52a04ba58>,\n <tensorflow.python.keras.layers.core.Dense at 0x7fd50fce6c88>]"
                    },
                    "metadata": {}
                }
            ]
        },
        {
            "metadata": {},
            "cell_type": "code",
            "source": "hidden1 = model.layers[1]",
            "execution_count": 15,
            "outputs": []
        },
        {
            "metadata": {},
            "cell_type": "code",
            "source": "hidden1.name",
            "execution_count": 16,
            "outputs": [
                {
                    "output_type": "execute_result",
                    "execution_count": 16,
                    "data": {
                        "text/plain": "'dense_3'"
                    },
                    "metadata": {}
                }
            ]
        },
        {
            "metadata": {},
            "cell_type": "code",
            "source": "model.get_layer('dense_3') is hidden1",
            "execution_count": 18,
            "outputs": [
                {
                    "output_type": "execute_result",
                    "execution_count": 18,
                    "data": {
                        "text/plain": "True"
                    },
                    "metadata": {}
                }
            ]
        },
        {
            "metadata": {},
            "cell_type": "code",
            "source": "weights, biases = hidden1.get_weights()",
            "execution_count": 19,
            "outputs": []
        },
        {
            "metadata": {},
            "cell_type": "code",
            "source": "weights",
            "execution_count": 20,
            "outputs": [
                {
                    "output_type": "execute_result",
                    "execution_count": 20,
                    "data": {
                        "text/plain": "array([[ 0.07231587,  0.02731961,  0.00723688, ...,  0.02036293,\n         0.05672796,  0.0354692 ],\n       [ 0.00224329, -0.05610041,  0.07289746, ...,  0.04487742,\n        -0.01432406, -0.01124718],\n       [-0.04038148, -0.02401203, -0.00245373, ..., -0.03482636,\n         0.0183138 , -0.07187168],\n       ...,\n       [-0.02219417, -0.00185183, -0.01177871, ...,  0.02685352,\n        -0.00856587, -0.04267941],\n       [-0.02888058,  0.06937274,  0.06632283, ..., -0.07084358,\n         0.04472151,  0.06840907],\n       [-0.04858609, -0.02442061, -0.03712231, ...,  0.06978048,\n         0.07049283,  0.04408435]], dtype=float32)"
                    },
                    "metadata": {}
                }
            ]
        },
        {
            "metadata": {},
            "cell_type": "code",
            "source": "weights.shape",
            "execution_count": 21,
            "outputs": [
                {
                    "output_type": "execute_result",
                    "execution_count": 21,
                    "data": {
                        "text/plain": "(784, 300)"
                    },
                    "metadata": {}
                }
            ]
        },
        {
            "metadata": {},
            "cell_type": "code",
            "source": "biases",
            "execution_count": 22,
            "outputs": [
                {
                    "output_type": "execute_result",
                    "execution_count": 22,
                    "data": {
                        "text/plain": "array([0., 0., 0., 0., 0., 0., 0., 0., 0., 0., 0., 0., 0., 0., 0., 0., 0.,\n       0., 0., 0., 0., 0., 0., 0., 0., 0., 0., 0., 0., 0., 0., 0., 0., 0.,\n       0., 0., 0., 0., 0., 0., 0., 0., 0., 0., 0., 0., 0., 0., 0., 0., 0.,\n       0., 0., 0., 0., 0., 0., 0., 0., 0., 0., 0., 0., 0., 0., 0., 0., 0.,\n       0., 0., 0., 0., 0., 0., 0., 0., 0., 0., 0., 0., 0., 0., 0., 0., 0.,\n       0., 0., 0., 0., 0., 0., 0., 0., 0., 0., 0., 0., 0., 0., 0., 0., 0.,\n       0., 0., 0., 0., 0., 0., 0., 0., 0., 0., 0., 0., 0., 0., 0., 0., 0.,\n       0., 0., 0., 0., 0., 0., 0., 0., 0., 0., 0., 0., 0., 0., 0., 0., 0.,\n       0., 0., 0., 0., 0., 0., 0., 0., 0., 0., 0., 0., 0., 0., 0., 0., 0.,\n       0., 0., 0., 0., 0., 0., 0., 0., 0., 0., 0., 0., 0., 0., 0., 0., 0.,\n       0., 0., 0., 0., 0., 0., 0., 0., 0., 0., 0., 0., 0., 0., 0., 0., 0.,\n       0., 0., 0., 0., 0., 0., 0., 0., 0., 0., 0., 0., 0., 0., 0., 0., 0.,\n       0., 0., 0., 0., 0., 0., 0., 0., 0., 0., 0., 0., 0., 0., 0., 0., 0.,\n       0., 0., 0., 0., 0., 0., 0., 0., 0., 0., 0., 0., 0., 0., 0., 0., 0.,\n       0., 0., 0., 0., 0., 0., 0., 0., 0., 0., 0., 0., 0., 0., 0., 0., 0.,\n       0., 0., 0., 0., 0., 0., 0., 0., 0., 0., 0., 0., 0., 0., 0., 0., 0.,\n       0., 0., 0., 0., 0., 0., 0., 0., 0., 0., 0., 0., 0., 0., 0., 0., 0.,\n       0., 0., 0., 0., 0., 0., 0., 0., 0., 0., 0.], dtype=float32)"
                    },
                    "metadata": {}
                }
            ]
        },
        {
            "metadata": {},
            "cell_type": "code",
            "source": "biases.shape",
            "execution_count": 23,
            "outputs": [
                {
                    "output_type": "execute_result",
                    "execution_count": 23,
                    "data": {
                        "text/plain": "(300,)"
                    },
                    "metadata": {}
                }
            ]
        },
        {
            "metadata": {},
            "cell_type": "markdown",
            "source": "### Compiling the model"
        },
        {
            "metadata": {},
            "cell_type": "code",
            "source": "model.compile(loss = \"sparse_categorical_crossentropy\", optimizer = \"sgd\", metrics = [\"accuracy\"])",
            "execution_count": 24,
            "outputs": []
        },
        {
            "metadata": {},
            "cell_type": "markdown",
            "source": "### Training and evaluating the model"
        },
        {
            "metadata": {},
            "cell_type": "code",
            "source": "history = model.fit(X_train, y_train, epochs = 30, validation_data=(X_valid, y_valid))",
            "execution_count": 25,
            "outputs": [
                {
                    "output_type": "stream",
                    "text": "Train on 55000 samples, validate on 5000 samples\nEpoch 1/30\n55000/55000 [==============================] - 23s 417us/sample - loss: 0.7381 - acc: 0.7583 - val_loss: 0.5070 - val_acc: 0.8290\nEpoch 2/30\n55000/55000 [==============================] - 22s 395us/sample - loss: 0.4936 - acc: 0.8282 - val_loss: 0.4594 - val_acc: 0.8418\nEpoch 3/30\n55000/55000 [==============================] - 21s 390us/sample - loss: 0.4492 - acc: 0.8433 - val_loss: 0.4344 - val_acc: 0.8450\nEpoch 4/30\n55000/55000 [==============================] - 22s 393us/sample - loss: 0.4212 - acc: 0.8533 - val_loss: 0.4039 - val_acc: 0.8622\nEpoch 5/30\n55000/55000 [==============================] - 21s 388us/sample - loss: 0.4018 - acc: 0.8597 - val_loss: 0.3824 - val_acc: 0.8720\nEpoch 6/30\n55000/55000 [==============================] - 22s 397us/sample - loss: 0.3857 - acc: 0.8645 - val_loss: 0.3769 - val_acc: 0.8722\nEpoch 7/30\n55000/55000 [==============================] - 21s 387us/sample - loss: 0.3723 - acc: 0.8689 - val_loss: 0.3842 - val_acc: 0.8656\nEpoch 8/30\n55000/55000 [==============================] - 22s 400us/sample - loss: 0.3583 - acc: 0.8736 - val_loss: 0.3555 - val_acc: 0.8780\nEpoch 9/30\n55000/55000 [==============================] - 22s 392us/sample - loss: 0.3488 - acc: 0.8759 - val_loss: 0.3657 - val_acc: 0.8724\nEpoch 10/30\n55000/55000 [==============================] - 22s 397us/sample - loss: 0.3384 - acc: 0.8804 - val_loss: 0.3592 - val_acc: 0.8748\nEpoch 11/30\n55000/55000 [==============================] - 21s 383us/sample - loss: 0.3296 - acc: 0.8826 - val_loss: 0.3415 - val_acc: 0.8806\nEpoch 12/30\n55000/55000 [==============================] - 22s 396us/sample - loss: 0.3219 - acc: 0.8854 - val_loss: 0.3298 - val_acc: 0.8854\nEpoch 13/30\n55000/55000 [==============================] - 21s 387us/sample - loss: 0.3136 - acc: 0.8877 - val_loss: 0.3385 - val_acc: 0.8834\nEpoch 14/30\n55000/55000 [==============================] - 22s 395us/sample - loss: 0.3071 - acc: 0.8907 - val_loss: 0.3293 - val_acc: 0.8846\nEpoch 15/30\n55000/55000 [==============================] - 22s 393us/sample - loss: 0.3001 - acc: 0.8921 - val_loss: 0.3164 - val_acc: 0.8888\nEpoch 16/30\n55000/55000 [==============================] - 21s 387us/sample - loss: 0.2943 - acc: 0.8940 - val_loss: 0.3305 - val_acc: 0.8828\nEpoch 17/30\n55000/55000 [==============================] - 22s 408us/sample - loss: 0.2888 - acc: 0.8957 - val_loss: 0.3358 - val_acc: 0.8762\nEpoch 18/30\n55000/55000 [==============================] - 21s 390us/sample - loss: 0.2831 - acc: 0.8982 - val_loss: 0.3222 - val_acc: 0.8846\nEpoch 19/30\n55000/55000 [==============================] - 23s 416us/sample - loss: 0.2776 - acc: 0.9011 - val_loss: 0.3065 - val_acc: 0.8930\nEpoch 20/30\n55000/55000 [==============================] - 22s 398us/sample - loss: 0.2727 - acc: 0.9016 - val_loss: 0.3058 - val_acc: 0.8908\nEpoch 21/30\n55000/55000 [==============================] - 21s 374us/sample - loss: 0.2671 - acc: 0.9042 - val_loss: 0.3073 - val_acc: 0.8878\nEpoch 22/30\n55000/55000 [==============================] - 22s 396us/sample - loss: 0.2625 - acc: 0.9055 - val_loss: 0.3096 - val_acc: 0.8902\nEpoch 23/30\n55000/55000 [==============================] - 21s 390us/sample - loss: 0.2579 - acc: 0.9070 - val_loss: 0.3138 - val_acc: 0.8896\nEpoch 24/30\n55000/55000 [==============================] - 22s 394us/sample - loss: 0.2533 - acc: 0.9091 - val_loss: 0.2986 - val_acc: 0.8968\nEpoch 25/30\n55000/55000 [==============================] - 22s 393us/sample - loss: 0.2490 - acc: 0.9108 - val_loss: 0.3137 - val_acc: 0.8902\nEpoch 26/30\n55000/55000 [==============================] - 21s 391us/sample - loss: 0.2450 - acc: 0.9127 - val_loss: 0.3016 - val_acc: 0.8916\nEpoch 27/30\n55000/55000 [==============================] - 22s 391us/sample - loss: 0.2397 - acc: 0.9143 - val_loss: 0.2891 - val_acc: 0.8968\nEpoch 28/30\n55000/55000 [==============================] - 22s 397us/sample - loss: 0.2357 - acc: 0.9150 - val_loss: 0.2927 - val_acc: 0.8950\nEpoch 29/30\n55000/55000 [==============================] - 20s 369us/sample - loss: 0.2324 - acc: 0.9166 - val_loss: 0.3189 - val_acc: 0.8872\nEpoch 30/30\n55000/55000 [==============================] - 21s 389us/sample - loss: 0.2292 - acc: 0.9177 - val_loss: 0.2869 - val_acc: 0.8968\n",
                    "name": "stdout"
                }
            ]
        },
        {
            "metadata": {},
            "cell_type": "code",
            "source": "import pandas as pd\nimport matplotlib.pyplot as plt",
            "execution_count": 26,
            "outputs": []
        },
        {
            "metadata": {},
            "cell_type": "code",
            "source": "pd.DataFrame(history.history).plot(figsize = (8,5))\nplt.grid(True)\nplt.gca().set_ylim(0,1)\nplt.show()",
            "execution_count": 27,
            "outputs": [
                {
                    "output_type": "display_data",
                    "data": {
                        "text/plain": "<Figure size 576x360 with 1 Axes>",
                        "image/png": "[encoded data removed]"
                    },
                    "metadata": {
                        "needs_background": "light"
                    }
                }
            ]
        },
        {
            "metadata": {},
            "cell_type": "code",
            "source": "model.evaluate(X_test, y_test)",
            "execution_count": 28,
            "outputs": [
                {
                    "output_type": "stream",
                    "text": "10000/10000 [==============================] - 2s 167us/sample - loss: 2.4113 - acc: 0.8480\n",
                    "name": "stdout"
                },
                {
                    "output_type": "execute_result",
                    "execution_count": 28,
                    "data": {
                        "text/plain": "[2.411330233192442, 0.848]"
                    },
                    "metadata": {}
                }
            ]
        },
        {
            "metadata": {},
            "cell_type": "markdown",
            "source": "### Using the model to make predictions"
        },
        {
            "metadata": {},
            "cell_type": "code",
            "source": "X_new = X_test[:3]\ny_proba = model.predict(X_new)\ny_proba.round(2)",
            "execution_count": 29,
            "outputs": [
                {
                    "output_type": "execute_result",
                    "execution_count": 29,
                    "data": {
                        "text/plain": "array([[0., 0., 0., 0., 0., 0., 0., 0., 0., 1.],\n       [0., 0., 1., 0., 0., 0., 0., 0., 0., 0.],\n       [0., 1., 0., 0., 0., 0., 0., 0., 0., 0.]], dtype=float32)"
                    },
                    "metadata": {}
                }
            ]
        },
        {
            "metadata": {},
            "cell_type": "code",
            "source": "y_pred = model.predict_classes(X_new)\ny_pred",
            "execution_count": 30,
            "outputs": [
                {
                    "output_type": "execute_result",
                    "execution_count": 30,
                    "data": {
                        "text/plain": "array([9, 2, 1])"
                    },
                    "metadata": {}
                }
            ]
        },
        {
            "metadata": {},
            "cell_type": "code",
            "source": "np.array(class_names)[y_pred]",
            "execution_count": 31,
            "outputs": [
                {
                    "output_type": "execute_result",
                    "execution_count": 31,
                    "data": {
                        "text/plain": "array(['Ankle boot', 'Pullover', 'Trouser'], dtype='<U11')"
                    },
                    "metadata": {}
                }
            ]
        },
        {
            "metadata": {},
            "cell_type": "code",
            "source": "y_new = y_test[:3]\ny_new",
            "execution_count": 32,
            "outputs": [
                {
                    "output_type": "execute_result",
                    "execution_count": 32,
                    "data": {
                        "text/plain": "array([9, 2, 1], dtype=uint8)"
                    },
                    "metadata": {}
                }
            ]
        },
        {
            "metadata": {},
            "cell_type": "code",
            "source": "",
            "execution_count": null,
            "outputs": []
        }
    ],
    "metadata": {
        "kernelspec": {
            "name": "python3",
            "display_name": "Python 3.6",
            "language": "python"
        },
        "language_info": {
            "name": "python",
            "version": "3.6.9",
            "mimetype": "text/x-python",
            "codemirror_mode": {
                "name": "ipython",
                "version": 3
            },
            "pygments_lexer": "ipython3",
            "nbconvert_exporter": "python",
            "file_extension": ".py"
        }
    },
    "nbformat": 4,
    "nbformat_minor": 1
}