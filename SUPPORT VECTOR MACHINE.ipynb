{
    "cells": [
        {
            "metadata": {
                "collapsed": true
            },
            "cell_type": "markdown",
            "source": "# SUPPORT VECTOR MACHINE"
        },
        {
            "metadata": {},
            "cell_type": "markdown",
            "source": "### LINEAR SVM CLASSFICATION"
        },
        {
            "metadata": {},
            "cell_type": "code",
            "source": "import numpy as np\nfrom sklearn import datasets\nfrom sklearn.pipeline import Pipeline\nfrom sklearn.preprocessing import StandardScaler\nfrom sklearn.svm import LinearSVC",
            "execution_count": 1,
            "outputs": []
        },
        {
            "metadata": {},
            "cell_type": "code",
            "source": "iris = datasets.load_iris()\nX = iris[\"data\"][:, (2,3)]\ny = (iris[\"target\"] == 2).astype(np.int)",
            "execution_count": 2,
            "outputs": []
        },
        {
            "metadata": {},
            "cell_type": "code",
            "source": "svm_clf = Pipeline([(\"scaler\", StandardScaler()), (\"linear_svc\", LinearSVC(C = 1, loss = \"hinge\")),])",
            "execution_count": 3,
            "outputs": []
        },
        {
            "metadata": {},
            "cell_type": "code",
            "source": "svm_clf.fit(X, y);",
            "execution_count": 5,
            "outputs": []
        },
        {
            "metadata": {},
            "cell_type": "code",
            "source": "svm_clf.predict([[5.5, 1.7]])",
            "execution_count": 6,
            "outputs": [
                {
                    "output_type": "execute_result",
                    "execution_count": 6,
                    "data": {
                        "text/plain": "array([1])"
                    },
                    "metadata": {}
                }
            ]
        },
        {
            "metadata": {},
            "cell_type": "markdown",
            "source": "### NON-LINEAR SVM CLASSFICATION"
        },
        {
            "metadata": {},
            "cell_type": "code",
            "source": "from sklearn.datasets import make_moons\nfrom sklearn.pipeline import Pipeline\nfrom sklearn. preprocessing import PolynomialFeatures\nfrom sklearn.svm import SVC\nX, y = make_moons(n_samples = 100, noise = 0.15)",
            "execution_count": 9,
            "outputs": []
        },
        {
            "metadata": {},
            "cell_type": "code",
            "source": "polynomial_svm_clf = Pipeline([(\"poly_features\", PolynomialFeatures(degree = 3)), (\"scaler\", StandardScaler()), (\"svm_clf\", LinearSVC(C = 10, loss = \"hinge\")),])",
            "execution_count": 11,
            "outputs": []
        },
        {
            "metadata": {},
            "cell_type": "code",
            "source": "polynomial_svm_clf.fit(X,y);",
            "execution_count": 13,
            "outputs": [
                {
                    "output_type": "stream",
                    "text": "/opt/conda/envs/Python36/lib/python3.6/site-packages/sklearn/svm/base.py:931: ConvergenceWarning: Liblinear failed to converge, increase the number of iterations.\n  \"the number of iterations.\", ConvergenceWarning)\n",
                    "name": "stderr"
                }
            ]
        },
        {
            "metadata": {},
            "cell_type": "code",
            "source": "poly_kernel_svm_clf = Pipeline([(\"scaler\", StandardScaler()), (\"svm_clf\", SVC(kernel = \"poly\", degree = 3, coef0 = 1, C = 5))])\npoly_kernel_svm_clf.fit(X,y);",
            "execution_count": 18,
            "outputs": []
        },
        {
            "metadata": {},
            "cell_type": "markdown",
            "source": "#### GAUSSIAN RBF KERNEL"
        },
        {
            "metadata": {},
            "cell_type": "code",
            "source": "rbf_kernel_svm_clf = Pipeline([(\"scaler\", StandardScaler()), (\"svm_clf\", SVC(kernel = \"rbf\", gamma = 5, C = 0.001))])\nrbf_kernel_svm_clf.fit(X,y);",
            "execution_count": 20,
            "outputs": []
        },
        {
            "metadata": {},
            "cell_type": "code",
            "source": "",
            "execution_count": null,
            "outputs": []
        }
    ],
    "metadata": {
        "kernelspec": {
            "name": "python3",
            "display_name": "Python 3.6",
            "language": "python"
        },
        "language_info": {
            "name": "python",
            "version": "3.6.9",
            "mimetype": "text/x-python",
            "codemirror_mode": {
                "name": "ipython",
                "version": 3
            },
            "pygments_lexer": "ipython3",
            "nbconvert_exporter": "python",
            "file_extension": ".py"
        }
    },
    "nbformat": 4,
    "nbformat_minor": 1
}