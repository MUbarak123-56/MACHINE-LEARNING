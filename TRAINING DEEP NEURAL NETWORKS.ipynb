{
    "cells": [
        {
            "metadata": {
                "collapsed": true
            },
            "cell_type": "markdown",
            "source": "# TRAINING DEEP NEURAL NETWORKS"
        },
        {
            "metadata": {},
            "cell_type": "code",
            "source": "import pandas as pd\nimport numpy as np\nimport tensorflow as tf\nfrom tensorflow import keras\nfrom sklearn.datasets import load_iris\niris = load_iris()",
            "execution_count": 1,
            "outputs": []
        },
        {
            "metadata": {},
            "cell_type": "code",
            "source": "X, y = iris['data'], iris['target']",
            "execution_count": 2,
            "outputs": []
        },
        {
            "metadata": {},
            "cell_type": "code",
            "source": "%matplotlib inline\nimport matplotlib.pyplot as plt\nplt.scatter(X[:,2], X[:,3], c = y, cmap = \"viridis\")\nplt.colorbar()\nplt.show()",
            "execution_count": 3,
            "outputs": [
                {
                    "output_type": "display_data",
                    "data": {
                        "text/plain": "<Figure size 432x288 with 2 Axes>",
                        "image/png": "[encoded data removed]"
                    },
                    "metadata": {
                        "needs_background": "light"
                    }
                }
            ]
        },
        {
            "metadata": {},
            "cell_type": "markdown",
            "source": "### Glorot and He initialization"
        },
        {
            "metadata": {},
            "cell_type": "code",
            "source": "keras.layers.Dense(10, activation = \"relu\", kernel_initializer = \"he_normal\") ## He initialization\nhe_avg_init = keras.initializers.VarianceScaling(scale = 2., mode = \"fan_avg\", distribution = \"uniform\") ## He initialization with fan_avg and uniform distribution\nkeras.layers.Dense(10, activation = \"sigmoid\", kernel_initializer = he_avg_init);",
            "execution_count": 4,
            "outputs": []
        },
        {
            "metadata": {},
            "cell_type": "markdown",
            "source": "### Implementing Batch Normalization with Keras"
        },
        {
            "metadata": {},
            "cell_type": "code",
            "source": "model = keras.models.Sequential([\n    keras.layers.Flatten(input_shape = [28,28]),\n    keras.layers.BatchNormalization(),\n    keras.layers.Dense(300, activation = \"elu\", kernel_initializer = \"he_normal\"),\n    keras.layers.BatchNormalization(),\n    keras.layers.Dense(100, activation = \"elu\", kernel_initializer = \"he_normal\"),\n    keras.layers.BatchNormalization(),\n    keras.layers.Dense(10, activation = \"softmax\")\n])",
            "execution_count": 5,
            "outputs": [
                {
                    "output_type": "stream",
                    "text": "WARNING:tensorflow:From /opt/conda/envs/Python36/lib/python3.6/site-packages/tensorflow/python/ops/resource_variable_ops.py:435: colocate_with (from tensorflow.python.framework.ops) is deprecated and will be removed in a future version.\nInstructions for updating:\nColocations handled automatically by placer.\n",
                    "name": "stdout"
                }
            ]
        },
        {
            "metadata": {},
            "cell_type": "code",
            "source": "model.summary()",
            "execution_count": 6,
            "outputs": [
                {
                    "output_type": "stream",
                    "text": "_________________________________________________________________\nLayer (type)                 Output Shape              Param #   \n=================================================================\nflatten (Flatten)            (None, 784)               0         \n_________________________________________________________________\nbatch_normalization_v1 (Batc (None, 784)               3136      \n_________________________________________________________________\ndense_2 (Dense)              (None, 300)               235500    \n_________________________________________________________________\nbatch_normalization_v1_1 (Ba (None, 300)               1200      \n_________________________________________________________________\ndense_3 (Dense)              (None, 100)               30100     \n_________________________________________________________________\nbatch_normalization_v1_2 (Ba (None, 100)               400       \n_________________________________________________________________\ndense_4 (Dense)              (None, 10)                1010      \n=================================================================\nTotal params: 271,346\nTrainable params: 268,978\nNon-trainable params: 2,368\n_________________________________________________________________\n",
                    "name": "stdout"
                }
            ]
        },
        {
            "metadata": {},
            "cell_type": "code",
            "source": "[(var.name, var.trainable) for var in model.layers[1].variables]",
            "execution_count": 7,
            "outputs": [
                {
                    "output_type": "execute_result",
                    "execution_count": 7,
                    "data": {
                        "text/plain": "[('batch_normalization_v1/gamma:0', True),\n ('batch_normalization_v1/beta:0', True),\n ('batch_normalization_v1/moving_mean:0', False),\n ('batch_normalization_v1/moving_variance:0', False)]"
                    },
                    "metadata": {}
                }
            ]
        },
        {
            "metadata": {},
            "cell_type": "code",
            "source": "model.layers[1].updates",
            "execution_count": 8,
            "outputs": [
                {
                    "output_type": "execute_result",
                    "execution_count": 8,
                    "data": {
                        "text/plain": "[<tf.Operation 'batch_normalization_v1/cond_2/Merge' type=Merge>,\n <tf.Operation 'batch_normalization_v1/cond_3/Merge' type=Merge>]"
                    },
                    "metadata": {}
                }
            ]
        },
        {
            "metadata": {},
            "cell_type": "code",
            "source": "## Batch normalization before activation\nmodel = keras.models.Sequential([\n    keras.layers.Flatten(input_shape=[28, 28]),\n    keras.layers.BatchNormalization(),\n    keras.layers.Dense(300, kernel_initializer=\"he_normal\", use_bias=False),\n    keras.layers.BatchNormalization(),\n    keras.layers.Activation(\"elu\"),\n    keras.layers.Dense(100, kernel_initializer=\"he_normal\", use_bias=False),\n    keras.layers.BatchNormalization(),\n    keras.layers.Activation(\"elu\"),\n    keras.layers.Dense(10, activation=\"softmax\")\n])",
            "execution_count": 9,
            "outputs": []
        },
        {
            "metadata": {},
            "cell_type": "markdown",
            "source": "### Gradient Clipping"
        },
        {
            "metadata": {},
            "cell_type": "code",
            "source": "optimizer = keras.optimizers.SGD(clipvalue=1.0)\nmodel.compile(loss = \"mse\", optimizer = optimizer)",
            "execution_count": 10,
            "outputs": [
                {
                    "output_type": "stream",
                    "text": "WARNING:tensorflow:From /opt/conda/envs/Python36/lib/python3.6/site-packages/tensorflow/python/keras/utils/losses_utils.py:170: to_float (from tensorflow.python.ops.math_ops) is deprecated and will be removed in a future version.\nInstructions for updating:\nUse tf.cast instead.\n",
                    "name": "stdout"
                }
            ]
        },
        {
            "metadata": {},
            "cell_type": "markdown",
            "source": "### Transfer Learning on Keras"
        },
        {
            "metadata": {},
            "cell_type": "code",
            "source": "model_clone = keras.models.clone_model(model)\nmodel_clone.set_weights(model.get_weights())\nmodel_2 = keras.models.Sequential(model_clone.layers[:-1])\nmodel_2.add(keras.layers.Dense(1, activation = \"sigmoid\"))",
            "execution_count": 11,
            "outputs": []
        },
        {
            "metadata": {},
            "cell_type": "code",
            "source": "for layer in model_2.layers[:-1]:\n    layer.trainable = False",
            "execution_count": 12,
            "outputs": []
        },
        {
            "metadata": {},
            "cell_type": "code",
            "source": "model_2.compile(loss = \"binary_crossentropy\", optimizer = \"sgd\", metrics = [\"accuracy\"])",
            "execution_count": 13,
            "outputs": []
        },
        {
            "metadata": {},
            "cell_type": "code",
            "source": "fashion_mnist = keras.datasets.fashion_mnist\n(X_train_full, y_train_full), (X_test, y_test) = fashion_mnist.load_data()",
            "execution_count": 14,
            "outputs": []
        },
        {
            "metadata": {},
            "cell_type": "code",
            "source": "X_valid, X_train = X_train_full[:5000]/255.0, X_train_full[5000:]/255.0\ny_valid, y_train = y_train_full[:5000], y_train_full[5000:]\nX_test = X_test/255.0",
            "execution_count": 15,
            "outputs": []
        },
        {
            "metadata": {},
            "cell_type": "code",
            "source": "def split_dataset(X, y):\n    y_5_or_6 = (y == 5) | (y == 6) # sandals or shirts\n    y_A = y[~y_5_or_6]\n    y_A[y_A > 6] -= 2 # class indices 7, 8, 9 should be moved to 5, 6, 7\n    y_B = (y[y_5_or_6] == 6).astype(np.float32) # binary classification task: is it a shirt (class 6)?\n    return ((X[~y_5_or_6], y_A),\n            (X[y_5_or_6], y_B))",
            "execution_count": 16,
            "outputs": []
        },
        {
            "metadata": {},
            "cell_type": "code",
            "source": "(X_train_A, y_train_A), (X_train_B, y_train_B) = split_dataset(X_train, y_train)\n(X_valid_A, y_valid_A), (X_valid_B, y_valid_B) = split_dataset(X_valid, y_valid)\n(X_test_A, y_test_A), (X_test_B, y_test_B) = split_dataset(X_test, y_test)",
            "execution_count": 17,
            "outputs": []
        },
        {
            "metadata": {},
            "cell_type": "code",
            "source": "X_train_B = X_train_B[:200]\ny_train_B = y_train_B[:200]",
            "execution_count": 18,
            "outputs": []
        },
        {
            "metadata": {},
            "cell_type": "code",
            "source": "np.random.seed(42)",
            "execution_count": 19,
            "outputs": []
        },
        {
            "metadata": {},
            "cell_type": "code",
            "source": "model_A = keras.models.Sequential()\nmodel_A.add(keras.layers.Flatten(input_shape=[28,28]))\nfor n_hidden in (300, 100, 50, 50, 50):\n    model_A.add(keras.layers.Dense(n_hidden, activation = \"selu\"))\nmodel_A.add(keras.layers.Dense(8, activation = \"softmax\"))",
            "execution_count": 20,
            "outputs": []
        },
        {
            "metadata": {},
            "cell_type": "code",
            "source": "model_A.compile(loss = \"sparse_categorical_crossentropy\", optimizer = keras.optimizers.SGD(lr = 1e-3), metrics = [\"accuracy\"])",
            "execution_count": 21,
            "outputs": []
        },
        {
            "metadata": {},
            "cell_type": "code",
            "source": "model_B = keras.models.Sequential()\nmodel_B.add(keras.layers.Flatten(input_shape=[28,28]))\nfor n_hidden in (300, 100, 50, 50, 50):\n    model_B.add(keras.layers.Dense(n_hidden, activation = \"selu\"))\nmodel_B.add(keras.layers.Dense(1, activation = \"sigmoid\"))",
            "execution_count": 22,
            "outputs": []
        },
        {
            "metadata": {},
            "cell_type": "code",
            "source": "model_B.compile(loss=\"binary_crossentropy\",\n                optimizer=keras.optimizers.SGD(lr=1e-3),\n                metrics=[\"accuracy\"])",
            "execution_count": 23,
            "outputs": []
        },
        {
            "metadata": {},
            "cell_type": "code",
            "source": "history = model_B.fit(X_train_B, y_train_B, epochs=20, validation_data=(X_valid_B, y_valid_B))",
            "execution_count": 24,
            "outputs": [
                {
                    "output_type": "stream",
                    "text": "Train on 200 samples, validate on 986 samples\nWARNING:tensorflow:From /opt/conda/envs/Python36/lib/python3.6/site-packages/tensorflow/python/ops/math_ops.py:3066: to_int32 (from tensorflow.python.ops.math_ops) is deprecated and will be removed in a future version.\nInstructions for updating:\nUse tf.cast instead.\nEpoch 1/20\n200/200 [==============================] - 2s 9ms/sample - loss: 0.5175 - acc: 0.7300 - val_loss: 0.4300 - val_acc: 0.8205\nEpoch 2/20\n200/200 [==============================] - 0s 889us/sample - loss: 0.3512 - acc: 0.8900 - val_loss: 0.3181 - val_acc: 0.9006\nEpoch 3/20\n200/200 [==============================] - 0s 877us/sample - loss: 0.2565 - acc: 0.9550 - val_loss: 0.2545 - val_acc: 0.9391\nEpoch 4/20\n200/200 [==============================] - 0s 942us/sample - loss: 0.2024 - acc: 0.9750 - val_loss: 0.2143 - val_acc: 0.9493\nEpoch 5/20\n200/200 [==============================] - 0s 929us/sample - loss: 0.1671 - acc: 0.9850 - val_loss: 0.1882 - val_acc: 0.9564\nEpoch 6/20\n200/200 [==============================] - 0s 878us/sample - loss: 0.1436 - acc: 0.9850 - val_loss: 0.1672 - val_acc: 0.9594\nEpoch 7/20\n200/200 [==============================] - 0s 918us/sample - loss: 0.1254 - acc: 0.9850 - val_loss: 0.1517 - val_acc: 0.9686\nEpoch 8/20\n200/200 [==============================] - 0s 902us/sample - loss: 0.1112 - acc: 0.9850 - val_loss: 0.1400 - val_acc: 0.9696\nEpoch 9/20\n200/200 [==============================] - 0s 1ms/sample - loss: 0.1008 - acc: 0.9850 - val_loss: 0.1288 - val_acc: 0.9716\nEpoch 10/20\n200/200 [==============================] - 0s 893us/sample - loss: 0.0912 - acc: 0.9900 - val_loss: 0.1214 - val_acc: 0.9736\nEpoch 11/20\n200/200 [==============================] - 0s 857us/sample - loss: 0.0839 - acc: 0.9900 - val_loss: 0.1151 - val_acc: 0.9757\nEpoch 12/20\n200/200 [==============================] - 0s 883us/sample - loss: 0.0780 - acc: 0.9900 - val_loss: 0.1090 - val_acc: 0.9757\nEpoch 13/20\n200/200 [==============================] - 0s 885us/sample - loss: 0.0728 - acc: 0.9900 - val_loss: 0.1043 - val_acc: 0.9757\nEpoch 14/20\n200/200 [==============================] - 0s 898us/sample - loss: 0.0684 - acc: 0.9900 - val_loss: 0.0998 - val_acc: 0.9767\nEpoch 15/20\n200/200 [==============================] - 0s 931us/sample - loss: 0.0644 - acc: 0.9900 - val_loss: 0.0960 - val_acc: 0.9787\nEpoch 16/20\n200/200 [==============================] - 0s 1ms/sample - loss: 0.0610 - acc: 0.9900 - val_loss: 0.0925 - val_acc: 0.9817\nEpoch 17/20\n200/200 [==============================] - 0s 929us/sample - loss: 0.0579 - acc: 0.9900 - val_loss: 0.0893 - val_acc: 0.9817\nEpoch 18/20\n200/200 [==============================] - 0s 871us/sample - loss: 0.0551 - acc: 0.9900 - val_loss: 0.0868 - val_acc: 0.9817\nEpoch 19/20\n200/200 [==============================] - 0s 906us/sample - loss: 0.0527 - acc: 0.9900 - val_loss: 0.0840 - val_acc: 0.9828\nEpoch 20/20\n200/200 [==============================] - 0s 885us/sample - loss: 0.0502 - acc: 0.9900 - val_loss: 0.0811 - val_acc: 0.9838\n",
                    "name": "stdout"
                }
            ]
        },
        {
            "metadata": {},
            "cell_type": "code",
            "source": "model_clone_A = keras.models.clone_model(model_A)\nmodel_B_on_A = keras.models.Sequential(model_clone_A.layers[:-1])\nmodel_B_on_A.add(keras.layers.Dense(1, activation=\"sigmoid\"))",
            "execution_count": 25,
            "outputs": []
        },
        {
            "metadata": {},
            "cell_type": "code",
            "source": "for layer in model_B_on_A.layers[:-1]:\n    layer.trainable = False\n\nmodel_B_on_A.compile(loss=\"binary_crossentropy\",optimizer=keras.optimizers.SGD(lr=1e-3),metrics=[\"accuracy\"])",
            "execution_count": 26,
            "outputs": []
        },
        {
            "metadata": {},
            "cell_type": "code",
            "source": "history = model_B_on_A.fit(X_train_B, y_train_B, epochs=4,\n                           validation_data=(X_valid_B, y_valid_B))\n\nfor layer in model_B_on_A.layers[:-1]:\n    layer.trainable = True\n\nmodel_B_on_A.compile(loss=\"binary_crossentropy\",\n                     optimizer=keras.optimizers.SGD(lr=1e-3),\n                     metrics=[\"accuracy\"])\nhistory = model_B_on_A.fit(X_train_B, y_train_B, epochs=16,\n                           validation_data=(X_valid_B, y_valid_B))",
            "execution_count": 27,
            "outputs": [
                {
                    "output_type": "stream",
                    "text": "Train on 200 samples, validate on 986 samples\nEpoch 1/4\n200/200 [==============================] - 1s 5ms/sample - loss: 0.6873 - acc: 0.5900 - val_loss: 0.6634 - val_acc: 0.6156\nEpoch 2/4\n200/200 [==============================] - 0s 410us/sample - loss: 0.6801 - acc: 0.5900 - val_loss: 0.6569 - val_acc: 0.6237\nEpoch 3/4\n200/200 [==============================] - 0s 405us/sample - loss: 0.6732 - acc: 0.6000 - val_loss: 0.6507 - val_acc: 0.6349\nEpoch 4/4\n200/200 [==============================] - 0s 412us/sample - loss: 0.6667 - acc: 0.6150 - val_loss: 0.6447 - val_acc: 0.6400\nTrain on 200 samples, validate on 986 samples\nEpoch 1/16\n200/200 [==============================] - 1s 7ms/sample - loss: 0.5812 - acc: 0.6700 - val_loss: 0.4623 - val_acc: 0.8083\nEpoch 2/16\n200/200 [==============================] - 0s 899us/sample - loss: 0.4293 - acc: 0.8350 - val_loss: 0.3702 - val_acc: 0.8621\nEpoch 3/16\n200/200 [==============================] - 0s 917us/sample - loss: 0.3410 - acc: 0.8800 - val_loss: 0.3079 - val_acc: 0.8996\nEpoch 4/16\n200/200 [==============================] - 0s 1ms/sample - loss: 0.2817 - acc: 0.9250 - val_loss: 0.2648 - val_acc: 0.9239\nEpoch 5/16\n200/200 [==============================] - 0s 950us/sample - loss: 0.2390 - acc: 0.9350 - val_loss: 0.2332 - val_acc: 0.9422\nEpoch 6/16\n200/200 [==============================] - 0s 934us/sample - loss: 0.2064 - acc: 0.9500 - val_loss: 0.2080 - val_acc: 0.9554\nEpoch 7/16\n200/200 [==============================] - 0s 900us/sample - loss: 0.1812 - acc: 0.9600 - val_loss: 0.1894 - val_acc: 0.9655\nEpoch 8/16\n200/200 [==============================] - 0s 894us/sample - loss: 0.1612 - acc: 0.9700 - val_loss: 0.1738 - val_acc: 0.9675\nEpoch 9/16\n200/200 [==============================] - 0s 1ms/sample - loss: 0.1449 - acc: 0.9750 - val_loss: 0.1614 - val_acc: 0.9686\nEpoch 10/16\n200/200 [==============================] - 0s 957us/sample - loss: 0.1317 - acc: 0.9850 - val_loss: 0.1507 - val_acc: 0.9716\nEpoch 11/16\n200/200 [==============================] - 0s 902us/sample - loss: 0.1208 - acc: 0.9850 - val_loss: 0.1422 - val_acc: 0.9726\nEpoch 12/16\n200/200 [==============================] - 0s 1ms/sample - loss: 0.1119 - acc: 0.9850 - val_loss: 0.1354 - val_acc: 0.9757\nEpoch 13/16\n200/200 [==============================] - 0s 913us/sample - loss: 0.1043 - acc: 0.9850 - val_loss: 0.1283 - val_acc: 0.9757\nEpoch 14/16\n200/200 [==============================] - 0s 896us/sample - loss: 0.0973 - acc: 0.9850 - val_loss: 0.1229 - val_acc: 0.9767\nEpoch 15/16\n200/200 [==============================] - 0s 948us/sample - loss: 0.0913 - acc: 0.9900 - val_loss: 0.1178 - val_acc: 0.9787\nEpoch 16/16\n200/200 [==============================] - 0s 898us/sample - loss: 0.0861 - acc: 0.9950 - val_loss: 0.1133 - val_acc: 0.9797\n",
                    "name": "stdout"
                }
            ]
        },
        {
            "metadata": {},
            "cell_type": "code",
            "source": "model_B.evaluate(X_test_B, y_test_B)",
            "execution_count": 28,
            "outputs": [
                {
                    "output_type": "stream",
                    "text": "2000/2000 [==============================] - 0s 61us/sample - loss: 0.0813 - acc: 0.9795\n",
                    "name": "stdout"
                },
                {
                    "output_type": "execute_result",
                    "execution_count": 28,
                    "data": {
                        "text/plain": "[0.08126986318826676, 0.9795]"
                    },
                    "metadata": {}
                }
            ]
        },
        {
            "metadata": {},
            "cell_type": "code",
            "source": "model_B_on_A.evaluate(X_test_B, y_test_B)",
            "execution_count": 29,
            "outputs": [
                {
                    "output_type": "stream",
                    "text": "2000/2000 [==============================] - 0s 62us/sample - loss: 0.1125 - acc: 0.9775\n",
                    "name": "stdout"
                },
                {
                    "output_type": "execute_result",
                    "execution_count": 29,
                    "data": {
                        "text/plain": "[0.11253115373849869, 0.9775]"
                    },
                    "metadata": {}
                }
            ]
        },
        {
            "metadata": {},
            "cell_type": "code",
            "source": "(100 - 97.75) / (100 - 97.45)",
            "execution_count": 30,
            "outputs": [
                {
                    "output_type": "execute_result",
                    "execution_count": 30,
                    "data": {
                        "text/plain": "0.8823529411764716"
                    },
                    "metadata": {}
                }
            ]
        },
        {
            "metadata": {},
            "cell_type": "code",
            "source": "",
            "execution_count": null,
            "outputs": []
        }
    ],
    "metadata": {
        "kernelspec": {
            "name": "python3",
            "display_name": "Python 3.6",
            "language": "python"
        },
        "language_info": {
            "name": "python",
            "version": "3.6.9",
            "mimetype": "text/x-python",
            "codemirror_mode": {
                "name": "ipython",
                "version": 3
            },
            "pygments_lexer": "ipython3",
            "nbconvert_exporter": "python",
            "file_extension": ".py"
        }
    },
    "nbformat": 4,
    "nbformat_minor": 1
}